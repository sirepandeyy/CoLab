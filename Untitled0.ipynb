{
  "nbformat": 4,
  "nbformat_minor": 0,
  "metadata": {
    "colab": {
      "name": "Untitled0.ipynb",
      "provenance": [],
      "authorship_tag": "ABX9TyNo+/HLL5bzrlRkoa8aFXjw",
      "include_colab_link": true
    },
    "kernelspec": {
      "name": "python3",
      "display_name": "Python 3"
    }
  },
  "cells": [
    {
      "cell_type": "markdown",
      "metadata": {
        "id": "view-in-github",
        "colab_type": "text"
      },
      "source": [
        "<a href=\"https://colab.research.google.com/github/sirepandeyy/CoLab/blob/main/Untitled0.ipynb\" target=\"_parent\"><img src=\"https://colab.research.google.com/assets/colab-badge.svg\" alt=\"Open In Colab\"/></a>"
      ]
    },
    {
      "cell_type": "code",
      "metadata": {
        "colab": {
          "base_uri": "https://localhost:8080/"
        },
        "id": "g44scVsRoqRY",
        "outputId": "f91e1632-fdec-458c-f944-53ebe7f5d02e"
      },
      "source": [
        "x=[1,2,3,4,5]\r\n",
        "y=[2,4,7,8.5,9]\r\n",
        "xm=sum(x)/len(x)\r\n",
        "ym=sum(y)/len(y)\r\n",
        "xim=0\r\n",
        "yim=0\r\n",
        "xim2=0\r\n",
        "for i in range(0,len(x)):\r\n",
        "   xim=xim + (x[i]-xm)\r\n",
        "   print(xim)\r\n",
        "for j in range(0,len(y)):\r\n",
        "   yim=yim + (y[j]-ym)\r\n",
        "   print(yim)\r\n",
        "for k in range(0,len(x)):\r\n",
        "   xim2=xim2 + (x[k]-xm)*(x[k]-xm)\r\n",
        "   print(xim2)\r\n",
        "slope = xim*yim/xim2\r\n",
        "print(slope)"
      ],
      "execution_count": 5,
      "outputs": [
        {
          "output_type": "stream",
          "text": [
            "-2.0\n",
            "-3.0\n",
            "-3.0\n",
            "-2.0\n",
            "0.0\n",
            "-4.1\n",
            "-6.199999999999999\n",
            "-5.299999999999999\n",
            "-2.8999999999999986\n",
            "1.7763568394002505e-15\n",
            "4.0\n",
            "5.0\n",
            "5.0\n",
            "6.0\n",
            "10.0\n",
            "0.0\n"
          ],
          "name": "stdout"
        }
      ]
    }
  ]
}