{
  "nbformat": 4,
  "nbformat_minor": 0,
  "metadata": {
    "colab": {
      "name": "Untitled0.ipynb",
      "provenance": [],
      "authorship_tag": "ABX9TyNDKygItoCf7dCUU0q4P+hQ",
      "include_colab_link": true
    },
    "kernelspec": {
      "name": "python3",
      "display_name": "Python 3"
    }
  },
  "cells": [
    {
      "cell_type": "markdown",
      "metadata": {
        "id": "view-in-github",
        "colab_type": "text"
      },
      "source": [
        "<a href=\"https://colab.research.google.com/github/sirepandeyy/CoLab/blob/main/Untitled0.ipynb\" target=\"_parent\"><img src=\"https://colab.research.google.com/assets/colab-badge.svg\" alt=\"Open In Colab\"/></a>"
      ]
    },
    {
      "cell_type": "code",
      "metadata": {
        "colab": {
          "base_uri": "https://localhost:8080/"
        },
        "id": "g44scVsRoqRY",
        "outputId": "0deb6c16-78ad-49bd-b21a-4b82b4cfe54e"
      },
      "source": [
        "x=[1,2,3,4,5]\r\n",
        "y=[3,4,2,4,5]\r\n",
        "xm=sum(x)/len(x)\r\n",
        "ym=sum(y)/len(y)\r\n",
        "xim=[]\r\n",
        "yim=[]\r\n",
        "xim2=[]\r\n",
        "xyim=[]\r\n",
        "yp=[]\r\n",
        "ypm2=[]\r\n",
        "yim2=[]\r\n",
        "for i in range(0,len(x)):\r\n",
        "   xim.append(x[i]-xm)\r\n",
        "for j in range(0,len(y)):\r\n",
        "   yim.append(y[j]-ym)\r\n",
        "for k in range(0,len(x)):\r\n",
        "   xim2.append((x[k]-xm)*(x[k]-xm))\r\n",
        "for i in range(0,len(x)):\r\n",
        "   xyim.append((x[i]-xm)*(y[i]-ym))\r\n",
        "m = sum(xyim)/sum(xim2)\r\n",
        "c = ym - m*xm\r\n",
        "for i in range(0,len(x)):\r\n",
        "   yp.append(m*x[i]+c)\r\n",
        "for i in range(0,len(x)):\r\n",
        "   ypm2.append((yp[i]-ym)*(yp[i]-ym))\r\n",
        "for j in range(0,len(y)):\r\n",
        "   yim2.append((y[j]-ym)*(y[j]-ym))\r\n",
        "\r\n",
        "R2 = sum(ypm2)/sum(yim2)\r\n",
        "print(R2)"
      ],
      "execution_count": null,
      "outputs": [
        {
          "output_type": "stream",
          "text": [
            "0.3076923076923078\n"
          ],
          "name": "stdout"
        }
      ]
    },
    {
      "cell_type": "code",
      "metadata": {
        "id": "9LNaWuSyI7Mb"
      },
      "source": [
        ""
      ],
      "execution_count": null,
      "outputs": []
    }
  ]
}