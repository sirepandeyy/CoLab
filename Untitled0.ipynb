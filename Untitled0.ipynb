{
  "nbformat": 4,
  "nbformat_minor": 0,
  "metadata": {
    "colab": {
      "name": "Untitled0.ipynb",
      "provenance": [],
      "authorship_tag": "ABX9TyNwABJMrSmLAE1+qncM2on9",
      "include_colab_link": true
    },
    "kernelspec": {
      "name": "python3",
      "display_name": "Python 3"
    }
  },
  "cells": [
    {
      "cell_type": "markdown",
      "metadata": {
        "id": "view-in-github",
        "colab_type": "text"
      },
      "source": [
        "<a href=\"https://colab.research.google.com/github/sirepandeyy/CoLab/blob/main/Untitled0.ipynb\" target=\"_parent\"><img src=\"https://colab.research.google.com/assets/colab-badge.svg\" alt=\"Open In Colab\"/></a>"
      ]
    },
    {
      "cell_type": "code",
      "metadata": {
        "colab": {
          "base_uri": "https://localhost:8080/"
        },
        "id": "g44scVsRoqRY",
        "outputId": "78fd8a39-3eca-4e64-9e76-955c40f6e372"
      },
      "source": [
        "x=[1,2,3,4,5]\r\n",
        "y=[2,4,7,8.5,9]\r\n",
        "x2=[]\r\n",
        "y2=[]\r\n",
        "y3=[]\r\n",
        "x22=[]\r\n",
        "z=[]\r\n",
        "me_x=0\r\n",
        "me_y=0\r\n",
        "s=0\r\n",
        "t=0\r\n",
        "for i in x:\r\n",
        "  me_x=me_x+i\r\n",
        "for j in y:\r\n",
        "  me_y=me_y+j\r\n",
        "me_x=me_x//5\r\n",
        "me_y=me_y/5  \r\n",
        "for k in range(len(x)):\r\n",
        "  x2.append(((x[k])-me_x))\r\n",
        "  x22.append(x2[k]*x2[k])\r\n",
        "  s=s+x22[k]\r\n",
        "for i in range(0,5):\r\n",
        "  y2.append(y[i]-me_y)\r\n",
        "for i in range(0,5):\r\n",
        "  z.append(x2[i]*y2[i])\r\n",
        "  t=t+z[i]\r\n",
        "m=t/s \r\n",
        "c=(me_y-(m*me_x))\r\n",
        "print(m)\r\n",
        "print(c)\r\n",
        "e=[]\r\n",
        "mse=0\r\n",
        "for i in range(len(x)):\r\n",
        "  y3.append(m*x[i]+c)\r\n",
        "  e.append((y3[i]-y[i])**2)\r\n",
        "  mse=e[i]+mse\r\n",
        "print(mse/5)\r\n"
      ],
      "execution_count": 18,
      "outputs": [
        {
          "output_type": "stream",
          "text": [
            "1.85\n",
            "0.5499999999999989\n",
            "0.3949999999999997\n"
          ],
          "name": "stdout"
        }
      ]
    }
  ]
}